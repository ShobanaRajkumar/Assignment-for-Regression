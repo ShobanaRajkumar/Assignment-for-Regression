{
 "cells": [
  {
   "cell_type": "code",
   "execution_count": 21,
   "metadata": {},
   "outputs": [],
   "source": [
    "import pandas as pd"
   ]
  },
  {
   "cell_type": "code",
   "execution_count": 22,
   "metadata": {},
   "outputs": [],
   "source": [
    "dataset=pd.read_csv(\"insurance_pre.csv\")"
   ]
  },
  {
   "cell_type": "code",
   "execution_count": 23,
   "metadata": {},
   "outputs": [
    {
     "data": {
      "text/html": [
       "<div>\n",
       "<style scoped>\n",
       "    .dataframe tbody tr th:only-of-type {\n",
       "        vertical-align: middle;\n",
       "    }\n",
       "\n",
       "    .dataframe tbody tr th {\n",
       "        vertical-align: top;\n",
       "    }\n",
       "\n",
       "    .dataframe thead th {\n",
       "        text-align: right;\n",
       "    }\n",
       "</style>\n",
       "<table border=\"1\" class=\"dataframe\">\n",
       "  <thead>\n",
       "    <tr style=\"text-align: right;\">\n",
       "      <th></th>\n",
       "      <th>age</th>\n",
       "      <th>sex</th>\n",
       "      <th>bmi</th>\n",
       "      <th>children</th>\n",
       "      <th>smoker</th>\n",
       "      <th>charges</th>\n",
       "    </tr>\n",
       "  </thead>\n",
       "  <tbody>\n",
       "    <tr>\n",
       "      <td>0</td>\n",
       "      <td>19</td>\n",
       "      <td>female</td>\n",
       "      <td>27.900</td>\n",
       "      <td>0</td>\n",
       "      <td>yes</td>\n",
       "      <td>16884.92400</td>\n",
       "    </tr>\n",
       "    <tr>\n",
       "      <td>1</td>\n",
       "      <td>18</td>\n",
       "      <td>male</td>\n",
       "      <td>33.770</td>\n",
       "      <td>1</td>\n",
       "      <td>no</td>\n",
       "      <td>1725.55230</td>\n",
       "    </tr>\n",
       "    <tr>\n",
       "      <td>2</td>\n",
       "      <td>28</td>\n",
       "      <td>male</td>\n",
       "      <td>33.000</td>\n",
       "      <td>3</td>\n",
       "      <td>no</td>\n",
       "      <td>4449.46200</td>\n",
       "    </tr>\n",
       "    <tr>\n",
       "      <td>3</td>\n",
       "      <td>33</td>\n",
       "      <td>male</td>\n",
       "      <td>22.705</td>\n",
       "      <td>0</td>\n",
       "      <td>no</td>\n",
       "      <td>21984.47061</td>\n",
       "    </tr>\n",
       "    <tr>\n",
       "      <td>4</td>\n",
       "      <td>32</td>\n",
       "      <td>male</td>\n",
       "      <td>28.880</td>\n",
       "      <td>0</td>\n",
       "      <td>no</td>\n",
       "      <td>3866.85520</td>\n",
       "    </tr>\n",
       "    <tr>\n",
       "      <td>...</td>\n",
       "      <td>...</td>\n",
       "      <td>...</td>\n",
       "      <td>...</td>\n",
       "      <td>...</td>\n",
       "      <td>...</td>\n",
       "      <td>...</td>\n",
       "    </tr>\n",
       "    <tr>\n",
       "      <td>1333</td>\n",
       "      <td>50</td>\n",
       "      <td>male</td>\n",
       "      <td>30.970</td>\n",
       "      <td>3</td>\n",
       "      <td>no</td>\n",
       "      <td>10600.54830</td>\n",
       "    </tr>\n",
       "    <tr>\n",
       "      <td>1334</td>\n",
       "      <td>18</td>\n",
       "      <td>female</td>\n",
       "      <td>31.920</td>\n",
       "      <td>0</td>\n",
       "      <td>no</td>\n",
       "      <td>2205.98080</td>\n",
       "    </tr>\n",
       "    <tr>\n",
       "      <td>1335</td>\n",
       "      <td>18</td>\n",
       "      <td>female</td>\n",
       "      <td>36.850</td>\n",
       "      <td>0</td>\n",
       "      <td>no</td>\n",
       "      <td>1629.83350</td>\n",
       "    </tr>\n",
       "    <tr>\n",
       "      <td>1336</td>\n",
       "      <td>21</td>\n",
       "      <td>female</td>\n",
       "      <td>25.800</td>\n",
       "      <td>0</td>\n",
       "      <td>no</td>\n",
       "      <td>2007.94500</td>\n",
       "    </tr>\n",
       "    <tr>\n",
       "      <td>1337</td>\n",
       "      <td>61</td>\n",
       "      <td>female</td>\n",
       "      <td>29.070</td>\n",
       "      <td>0</td>\n",
       "      <td>yes</td>\n",
       "      <td>29141.36030</td>\n",
       "    </tr>\n",
       "  </tbody>\n",
       "</table>\n",
       "<p>1338 rows × 6 columns</p>\n",
       "</div>"
      ],
      "text/plain": [
       "      age     sex     bmi  children smoker      charges\n",
       "0      19  female  27.900         0    yes  16884.92400\n",
       "1      18    male  33.770         1     no   1725.55230\n",
       "2      28    male  33.000         3     no   4449.46200\n",
       "3      33    male  22.705         0     no  21984.47061\n",
       "4      32    male  28.880         0     no   3866.85520\n",
       "...   ...     ...     ...       ...    ...          ...\n",
       "1333   50    male  30.970         3     no  10600.54830\n",
       "1334   18  female  31.920         0     no   2205.98080\n",
       "1335   18  female  36.850         0     no   1629.83350\n",
       "1336   21  female  25.800         0     no   2007.94500\n",
       "1337   61  female  29.070         0    yes  29141.36030\n",
       "\n",
       "[1338 rows x 6 columns]"
      ]
     },
     "execution_count": 23,
     "metadata": {},
     "output_type": "execute_result"
    }
   ],
   "source": [
    "dataset"
   ]
  },
  {
   "cell_type": "code",
   "execution_count": 24,
   "metadata": {},
   "outputs": [],
   "source": [
    "dataset=pd.get_dummies(dataset,drop_first=True)"
   ]
  },
  {
   "cell_type": "code",
   "execution_count": 25,
   "metadata": {},
   "outputs": [
    {
     "data": {
      "text/html": [
       "<div>\n",
       "<style scoped>\n",
       "    .dataframe tbody tr th:only-of-type {\n",
       "        vertical-align: middle;\n",
       "    }\n",
       "\n",
       "    .dataframe tbody tr th {\n",
       "        vertical-align: top;\n",
       "    }\n",
       "\n",
       "    .dataframe thead th {\n",
       "        text-align: right;\n",
       "    }\n",
       "</style>\n",
       "<table border=\"1\" class=\"dataframe\">\n",
       "  <thead>\n",
       "    <tr style=\"text-align: right;\">\n",
       "      <th></th>\n",
       "      <th>age</th>\n",
       "      <th>bmi</th>\n",
       "      <th>children</th>\n",
       "      <th>charges</th>\n",
       "      <th>sex_male</th>\n",
       "      <th>smoker_yes</th>\n",
       "    </tr>\n",
       "  </thead>\n",
       "  <tbody>\n",
       "    <tr>\n",
       "      <td>0</td>\n",
       "      <td>19</td>\n",
       "      <td>27.900</td>\n",
       "      <td>0</td>\n",
       "      <td>16884.92400</td>\n",
       "      <td>0</td>\n",
       "      <td>1</td>\n",
       "    </tr>\n",
       "    <tr>\n",
       "      <td>1</td>\n",
       "      <td>18</td>\n",
       "      <td>33.770</td>\n",
       "      <td>1</td>\n",
       "      <td>1725.55230</td>\n",
       "      <td>1</td>\n",
       "      <td>0</td>\n",
       "    </tr>\n",
       "    <tr>\n",
       "      <td>2</td>\n",
       "      <td>28</td>\n",
       "      <td>33.000</td>\n",
       "      <td>3</td>\n",
       "      <td>4449.46200</td>\n",
       "      <td>1</td>\n",
       "      <td>0</td>\n",
       "    </tr>\n",
       "    <tr>\n",
       "      <td>3</td>\n",
       "      <td>33</td>\n",
       "      <td>22.705</td>\n",
       "      <td>0</td>\n",
       "      <td>21984.47061</td>\n",
       "      <td>1</td>\n",
       "      <td>0</td>\n",
       "    </tr>\n",
       "    <tr>\n",
       "      <td>4</td>\n",
       "      <td>32</td>\n",
       "      <td>28.880</td>\n",
       "      <td>0</td>\n",
       "      <td>3866.85520</td>\n",
       "      <td>1</td>\n",
       "      <td>0</td>\n",
       "    </tr>\n",
       "    <tr>\n",
       "      <td>...</td>\n",
       "      <td>...</td>\n",
       "      <td>...</td>\n",
       "      <td>...</td>\n",
       "      <td>...</td>\n",
       "      <td>...</td>\n",
       "      <td>...</td>\n",
       "    </tr>\n",
       "    <tr>\n",
       "      <td>1333</td>\n",
       "      <td>50</td>\n",
       "      <td>30.970</td>\n",
       "      <td>3</td>\n",
       "      <td>10600.54830</td>\n",
       "      <td>1</td>\n",
       "      <td>0</td>\n",
       "    </tr>\n",
       "    <tr>\n",
       "      <td>1334</td>\n",
       "      <td>18</td>\n",
       "      <td>31.920</td>\n",
       "      <td>0</td>\n",
       "      <td>2205.98080</td>\n",
       "      <td>0</td>\n",
       "      <td>0</td>\n",
       "    </tr>\n",
       "    <tr>\n",
       "      <td>1335</td>\n",
       "      <td>18</td>\n",
       "      <td>36.850</td>\n",
       "      <td>0</td>\n",
       "      <td>1629.83350</td>\n",
       "      <td>0</td>\n",
       "      <td>0</td>\n",
       "    </tr>\n",
       "    <tr>\n",
       "      <td>1336</td>\n",
       "      <td>21</td>\n",
       "      <td>25.800</td>\n",
       "      <td>0</td>\n",
       "      <td>2007.94500</td>\n",
       "      <td>0</td>\n",
       "      <td>0</td>\n",
       "    </tr>\n",
       "    <tr>\n",
       "      <td>1337</td>\n",
       "      <td>61</td>\n",
       "      <td>29.070</td>\n",
       "      <td>0</td>\n",
       "      <td>29141.36030</td>\n",
       "      <td>0</td>\n",
       "      <td>1</td>\n",
       "    </tr>\n",
       "  </tbody>\n",
       "</table>\n",
       "<p>1338 rows × 6 columns</p>\n",
       "</div>"
      ],
      "text/plain": [
       "      age     bmi  children      charges  sex_male  smoker_yes\n",
       "0      19  27.900         0  16884.92400         0           1\n",
       "1      18  33.770         1   1725.55230         1           0\n",
       "2      28  33.000         3   4449.46200         1           0\n",
       "3      33  22.705         0  21984.47061         1           0\n",
       "4      32  28.880         0   3866.85520         1           0\n",
       "...   ...     ...       ...          ...       ...         ...\n",
       "1333   50  30.970         3  10600.54830         1           0\n",
       "1334   18  31.920         0   2205.98080         0           0\n",
       "1335   18  36.850         0   1629.83350         0           0\n",
       "1336   21  25.800         0   2007.94500         0           0\n",
       "1337   61  29.070         0  29141.36030         0           1\n",
       "\n",
       "[1338 rows x 6 columns]"
      ]
     },
     "execution_count": 25,
     "metadata": {},
     "output_type": "execute_result"
    }
   ],
   "source": [
    "dataset"
   ]
  },
  {
   "cell_type": "code",
   "execution_count": 26,
   "metadata": {},
   "outputs": [
    {
     "data": {
      "text/plain": [
       "Index(['age', 'bmi', 'children', 'charges', 'sex_male', 'smoker_yes'], dtype='object')"
      ]
     },
     "execution_count": 26,
     "metadata": {},
     "output_type": "execute_result"
    }
   ],
   "source": [
    "dataset.columns"
   ]
  },
  {
   "cell_type": "code",
   "execution_count": 27,
   "metadata": {},
   "outputs": [],
   "source": [
    "independent=dataset[['age','bmi','children','sex_male','smoker_yes']]"
   ]
  },
  {
   "cell_type": "code",
   "execution_count": 28,
   "metadata": {},
   "outputs": [],
   "source": [
    "dependent=dataset[\"charges\"]"
   ]
  },
  {
   "cell_type": "code",
   "execution_count": 29,
   "metadata": {},
   "outputs": [],
   "source": [
    "from sklearn.model_selection import train_test_split\n",
    "x_train,x_test,y_train,y_test=train_test_split(independent,dependent,test_size=0.30,random_state=0)"
   ]
  },
  {
   "cell_type": "code",
   "execution_count": 30,
   "metadata": {},
   "outputs": [
    {
     "data": {
      "text/html": [
       "<div>\n",
       "<style scoped>\n",
       "    .dataframe tbody tr th:only-of-type {\n",
       "        vertical-align: middle;\n",
       "    }\n",
       "\n",
       "    .dataframe tbody tr th {\n",
       "        vertical-align: top;\n",
       "    }\n",
       "\n",
       "    .dataframe thead th {\n",
       "        text-align: right;\n",
       "    }\n",
       "</style>\n",
       "<table border=\"1\" class=\"dataframe\">\n",
       "  <thead>\n",
       "    <tr style=\"text-align: right;\">\n",
       "      <th></th>\n",
       "      <th>age</th>\n",
       "      <th>bmi</th>\n",
       "      <th>children</th>\n",
       "      <th>sex_male</th>\n",
       "      <th>smoker_yes</th>\n",
       "    </tr>\n",
       "  </thead>\n",
       "  <tbody>\n",
       "    <tr>\n",
       "      <td>1163</td>\n",
       "      <td>18</td>\n",
       "      <td>28.215</td>\n",
       "      <td>0</td>\n",
       "      <td>0</td>\n",
       "      <td>0</td>\n",
       "    </tr>\n",
       "    <tr>\n",
       "      <td>196</td>\n",
       "      <td>39</td>\n",
       "      <td>32.800</td>\n",
       "      <td>0</td>\n",
       "      <td>0</td>\n",
       "      <td>0</td>\n",
       "    </tr>\n",
       "    <tr>\n",
       "      <td>438</td>\n",
       "      <td>52</td>\n",
       "      <td>46.750</td>\n",
       "      <td>5</td>\n",
       "      <td>0</td>\n",
       "      <td>0</td>\n",
       "    </tr>\n",
       "    <tr>\n",
       "      <td>183</td>\n",
       "      <td>44</td>\n",
       "      <td>26.410</td>\n",
       "      <td>0</td>\n",
       "      <td>0</td>\n",
       "      <td>0</td>\n",
       "    </tr>\n",
       "    <tr>\n",
       "      <td>1298</td>\n",
       "      <td>33</td>\n",
       "      <td>27.455</td>\n",
       "      <td>2</td>\n",
       "      <td>1</td>\n",
       "      <td>0</td>\n",
       "    </tr>\n",
       "    <tr>\n",
       "      <td>...</td>\n",
       "      <td>...</td>\n",
       "      <td>...</td>\n",
       "      <td>...</td>\n",
       "      <td>...</td>\n",
       "      <td>...</td>\n",
       "    </tr>\n",
       "    <tr>\n",
       "      <td>763</td>\n",
       "      <td>27</td>\n",
       "      <td>26.030</td>\n",
       "      <td>0</td>\n",
       "      <td>1</td>\n",
       "      <td>0</td>\n",
       "    </tr>\n",
       "    <tr>\n",
       "      <td>835</td>\n",
       "      <td>42</td>\n",
       "      <td>35.970</td>\n",
       "      <td>2</td>\n",
       "      <td>1</td>\n",
       "      <td>0</td>\n",
       "    </tr>\n",
       "    <tr>\n",
       "      <td>1216</td>\n",
       "      <td>40</td>\n",
       "      <td>25.080</td>\n",
       "      <td>0</td>\n",
       "      <td>1</td>\n",
       "      <td>0</td>\n",
       "    </tr>\n",
       "    <tr>\n",
       "      <td>559</td>\n",
       "      <td>19</td>\n",
       "      <td>35.530</td>\n",
       "      <td>0</td>\n",
       "      <td>1</td>\n",
       "      <td>0</td>\n",
       "    </tr>\n",
       "    <tr>\n",
       "      <td>684</td>\n",
       "      <td>33</td>\n",
       "      <td>18.500</td>\n",
       "      <td>1</td>\n",
       "      <td>0</td>\n",
       "      <td>0</td>\n",
       "    </tr>\n",
       "  </tbody>\n",
       "</table>\n",
       "<p>936 rows × 5 columns</p>\n",
       "</div>"
      ],
      "text/plain": [
       "      age     bmi  children  sex_male  smoker_yes\n",
       "1163   18  28.215         0         0           0\n",
       "196    39  32.800         0         0           0\n",
       "438    52  46.750         5         0           0\n",
       "183    44  26.410         0         0           0\n",
       "1298   33  27.455         2         1           0\n",
       "...   ...     ...       ...       ...         ...\n",
       "763    27  26.030         0         1           0\n",
       "835    42  35.970         2         1           0\n",
       "1216   40  25.080         0         1           0\n",
       "559    19  35.530         0         1           0\n",
       "684    33  18.500         1         0           0\n",
       "\n",
       "[936 rows x 5 columns]"
      ]
     },
     "execution_count": 30,
     "metadata": {},
     "output_type": "execute_result"
    }
   ],
   "source": [
    "x_train"
   ]
  },
  {
   "cell_type": "code",
   "execution_count": 31,
   "metadata": {},
   "outputs": [
    {
     "data": {
      "text/html": [
       "<div>\n",
       "<style scoped>\n",
       "    .dataframe tbody tr th:only-of-type {\n",
       "        vertical-align: middle;\n",
       "    }\n",
       "\n",
       "    .dataframe tbody tr th {\n",
       "        vertical-align: top;\n",
       "    }\n",
       "\n",
       "    .dataframe thead th {\n",
       "        text-align: right;\n",
       "    }\n",
       "</style>\n",
       "<table border=\"1\" class=\"dataframe\">\n",
       "  <thead>\n",
       "    <tr style=\"text-align: right;\">\n",
       "      <th></th>\n",
       "      <th>age</th>\n",
       "      <th>bmi</th>\n",
       "      <th>children</th>\n",
       "      <th>sex_male</th>\n",
       "      <th>smoker_yes</th>\n",
       "    </tr>\n",
       "  </thead>\n",
       "  <tbody>\n",
       "    <tr>\n",
       "      <td>578</td>\n",
       "      <td>52</td>\n",
       "      <td>30.200</td>\n",
       "      <td>1</td>\n",
       "      <td>1</td>\n",
       "      <td>0</td>\n",
       "    </tr>\n",
       "    <tr>\n",
       "      <td>610</td>\n",
       "      <td>47</td>\n",
       "      <td>29.370</td>\n",
       "      <td>1</td>\n",
       "      <td>0</td>\n",
       "      <td>0</td>\n",
       "    </tr>\n",
       "    <tr>\n",
       "      <td>569</td>\n",
       "      <td>48</td>\n",
       "      <td>40.565</td>\n",
       "      <td>2</td>\n",
       "      <td>1</td>\n",
       "      <td>1</td>\n",
       "    </tr>\n",
       "    <tr>\n",
       "      <td>1034</td>\n",
       "      <td>61</td>\n",
       "      <td>38.380</td>\n",
       "      <td>0</td>\n",
       "      <td>1</td>\n",
       "      <td>0</td>\n",
       "    </tr>\n",
       "    <tr>\n",
       "      <td>198</td>\n",
       "      <td>51</td>\n",
       "      <td>18.050</td>\n",
       "      <td>0</td>\n",
       "      <td>0</td>\n",
       "      <td>0</td>\n",
       "    </tr>\n",
       "    <tr>\n",
       "      <td>...</td>\n",
       "      <td>...</td>\n",
       "      <td>...</td>\n",
       "      <td>...</td>\n",
       "      <td>...</td>\n",
       "      <td>...</td>\n",
       "    </tr>\n",
       "    <tr>\n",
       "      <td>1261</td>\n",
       "      <td>28</td>\n",
       "      <td>37.100</td>\n",
       "      <td>1</td>\n",
       "      <td>1</td>\n",
       "      <td>0</td>\n",
       "    </tr>\n",
       "    <tr>\n",
       "      <td>494</td>\n",
       "      <td>21</td>\n",
       "      <td>25.700</td>\n",
       "      <td>4</td>\n",
       "      <td>1</td>\n",
       "      <td>1</td>\n",
       "    </tr>\n",
       "    <tr>\n",
       "      <td>97</td>\n",
       "      <td>55</td>\n",
       "      <td>38.280</td>\n",
       "      <td>0</td>\n",
       "      <td>1</td>\n",
       "      <td>0</td>\n",
       "    </tr>\n",
       "    <tr>\n",
       "      <td>418</td>\n",
       "      <td>64</td>\n",
       "      <td>39.160</td>\n",
       "      <td>1</td>\n",
       "      <td>1</td>\n",
       "      <td>0</td>\n",
       "    </tr>\n",
       "    <tr>\n",
       "      <td>920</td>\n",
       "      <td>62</td>\n",
       "      <td>25.000</td>\n",
       "      <td>0</td>\n",
       "      <td>0</td>\n",
       "      <td>0</td>\n",
       "    </tr>\n",
       "  </tbody>\n",
       "</table>\n",
       "<p>402 rows × 5 columns</p>\n",
       "</div>"
      ],
      "text/plain": [
       "      age     bmi  children  sex_male  smoker_yes\n",
       "578    52  30.200         1         1           0\n",
       "610    47  29.370         1         0           0\n",
       "569    48  40.565         2         1           1\n",
       "1034   61  38.380         0         1           0\n",
       "198    51  18.050         0         0           0\n",
       "...   ...     ...       ...       ...         ...\n",
       "1261   28  37.100         1         1           0\n",
       "494    21  25.700         4         1           1\n",
       "97     55  38.280         0         1           0\n",
       "418    64  39.160         1         1           0\n",
       "920    62  25.000         0         0           0\n",
       "\n",
       "[402 rows x 5 columns]"
      ]
     },
     "execution_count": 31,
     "metadata": {},
     "output_type": "execute_result"
    }
   ],
   "source": [
    "x_test"
   ]
  },
  {
   "cell_type": "code",
   "execution_count": 32,
   "metadata": {},
   "outputs": [
    {
     "data": {
      "text/plain": [
       "1163     2200.83085\n",
       "196      5649.71500\n",
       "438     12592.53450\n",
       "183      7419.47790\n",
       "1298     5261.46945\n",
       "           ...     \n",
       "763      3070.80870\n",
       "835      7160.33030\n",
       "1216     5415.66120\n",
       "559      1646.42970\n",
       "684      4766.02200\n",
       "Name: charges, Length: 936, dtype: float64"
      ]
     },
     "execution_count": 32,
     "metadata": {},
     "output_type": "execute_result"
    }
   ],
   "source": [
    "y_train"
   ]
  },
  {
   "cell_type": "code",
   "execution_count": 33,
   "metadata": {
    "scrolled": true
   },
   "outputs": [
    {
     "data": {
      "text/plain": [
       "578      9724.53000\n",
       "610      8547.69130\n",
       "569     45702.02235\n",
       "1034    12950.07120\n",
       "198      9644.25250\n",
       "           ...     \n",
       "1261     3277.16100\n",
       "494     17942.10600\n",
       "97      10226.28420\n",
       "418     14418.28040\n",
       "920     13451.12200\n",
       "Name: charges, Length: 402, dtype: float64"
      ]
     },
     "execution_count": 33,
     "metadata": {},
     "output_type": "execute_result"
    }
   ],
   "source": [
    "y_test"
   ]
  },
  {
   "cell_type": "code",
   "execution_count": 34,
   "metadata": {},
   "outputs": [
    {
     "data": {
      "text/plain": [
       "LinearRegression(copy_X=True, fit_intercept=True, n_jobs=None, normalize=False)"
      ]
     },
     "execution_count": 34,
     "metadata": {},
     "output_type": "execute_result"
    }
   ],
   "source": [
    "from sklearn.linear_model import LinearRegression \n",
    "regressor=LinearRegression()\n",
    "regressor.fit(x_train,y_train)"
   ]
  },
  {
   "cell_type": "code",
   "execution_count": 36,
   "metadata": {},
   "outputs": [],
   "source": [
    "weight=regressor.coef_"
   ]
  },
  {
   "cell_type": "code",
   "execution_count": 37,
   "metadata": {},
   "outputs": [
    {
     "data": {
      "text/plain": [
       "array([  257.8006705 ,   321.06004271,   469.58113407,   -41.74825718,\n",
       "       23418.6671912 ])"
      ]
     },
     "execution_count": 37,
     "metadata": {},
     "output_type": "execute_result"
    }
   ],
   "source": [
    "weight"
   ]
  },
  {
   "cell_type": "code",
   "execution_count": 38,
   "metadata": {},
   "outputs": [],
   "source": [
    "bias=regressor.intercept_"
   ]
  },
  {
   "cell_type": "code",
   "execution_count": 39,
   "metadata": {},
   "outputs": [
    {
     "data": {
      "text/plain": [
       "-12057.244845998519"
      ]
     },
     "execution_count": 39,
     "metadata": {},
     "output_type": "execute_result"
    }
   ],
   "source": [
    "bias"
   ]
  },
  {
   "cell_type": "code",
   "execution_count": 40,
   "metadata": {},
   "outputs": [],
   "source": [
    "y_pred=regressor.predict(x_test)"
   ]
  },
  {
   "cell_type": "code",
   "execution_count": 41,
   "metadata": {
    "scrolled": true
   },
   "outputs": [
    {
     "data": {
      "text/plain": [
       "array([11472.23618644,  9958.50125569, 37657.06917237, 15949.13223617,\n",
       "        6885.72312017,  3528.88810655,  1031.86224676, 14181.1024054 ,\n",
       "        8847.14792524,  7275.30131109,  4216.86216451, 10190.14526672,\n",
       "        9097.46039634,  4255.14691858, 27430.50340855, 11282.58288365,\n",
       "       11177.22736522,  5504.64625133,  8030.81149341, 26327.41490839,\n",
       "       33367.35431038, 14177.00561427, 11261.11883838, 32413.15484705,\n",
       "        4414.81928993,  8606.98618122,   712.30206629, 10258.50678538,\n",
       "        4198.66143865, 10231.92533963,  8874.73800132, 40207.90493832,\n",
       "       15892.29406482, 14055.58336707, 24136.79051345,  4643.98226168,\n",
       "       12953.8618379 , 30694.2595505 , 33135.3543329 ,  3790.06798605,\n",
       "        3598.22643981,  4347.64393443, 29853.09596525, 39076.04912317,\n",
       "       27832.89698787,  4787.97369821, 11176.63306955,  7646.91121556,\n",
       "        3192.01904016, 10805.99433047,  5065.92896438,  3216.91828843,\n",
       "       33153.3686017 , 37813.274525  , 16350.82043262,  6496.18828402,\n",
       "        5975.77104239,  9270.23614952,  9527.79368838, 11646.80849929,\n",
       "        2013.64286192, 38624.78787957, 15408.08854282, 12100.4420692 ,\n",
       "       13591.52763834, 14242.04217029, 25929.95311932, 31761.49314429,\n",
       "        1323.73583741, 10004.08707152, 12722.4892586 , 12035.6438424 ,\n",
       "       25240.62666383, 16015.25996901, 11127.47351024, 12255.99956035,\n",
       "        6919.47669201, 10036.73137746, 29574.317679  , 39169.57567261,\n",
       "       11621.3060311 , 37279.82514958,  3881.85961904,  9667.63149296,\n",
       "       34098.94314645, 29146.87823351,  8728.09953173,  4577.5545564 ,\n",
       "       12409.9787646 , 30387.11371045,  9526.89529843, 11679.73905104,\n",
       "        7655.57818125,  9418.048583  ,  7798.98667454,  6788.19149092,\n",
       "       35350.43837577, 33298.07914773,  7396.48110723, 15276.56416569,\n",
       "        4284.13730876,  8509.66281309,  6695.31760535, 31654.59549627,\n",
       "       32645.2554601 ,  1796.53237431,  9433.27138843,  6324.4316128 ,\n",
       "       14047.20417457, 37318.48371857, 10165.89387993, 10771.46436833,\n",
       "       10058.98250526, 26147.32131203, 40010.1530396 ,  8055.49094151,\n",
       "         589.92238036,  9331.23755763, 15492.15517459,  9434.27194134,\n",
       "       35362.37605772,  7235.02590284, 17188.08176122,  9061.04781242,\n",
       "        8584.71696434,  2854.7868307 , 32335.32860831, 31210.53620626,\n",
       "       39598.01002179,  5149.0941514 ,  9795.94679706,  3853.19774202,\n",
       "        8062.09447759,  8247.00724961, 31779.10353006, 29973.54620025,\n",
       "       30058.22170115,  9329.70435227, 32840.2927927 ,  3084.20622075,\n",
       "        3347.00512712, 10955.74865474, 13515.3642212 , 12344.98600333,\n",
       "        5248.99810696, 15990.52780192, 15347.688607  ,  2253.50463349,\n",
       "        -216.11913467, 10466.012925  ,  6962.46383133, 31806.55179064,\n",
       "       11888.66160562,  2652.4331823 ,  6029.34261932,  8295.16298101,\n",
       "        4107.43512066,  2440.53355411, 11269.74048194, 12356.88141793,\n",
       "        6732.10989402, 16704.57597286, 11706.98688732, 14264.50592165,\n",
       "        2780.52868622,  6763.79676123, 23226.63801136,  7134.04534393,\n",
       "        4994.10806444,  5367.7781235 ,  6445.53298429,  4720.78789108,\n",
       "        9819.07366393,  5601.43612018,  5998.48769644,  7031.22923301,\n",
       "        3287.25480039,  5439.97611338, 37515.87812345,   929.11258146,\n",
       "       12474.78744303,  8761.10392596, 13514.89716756,  5668.50603772,\n",
       "        4803.55811932, 35874.01349884,  3759.85680281,  2302.13549594,\n",
       "       15025.74237359, 12219.89740051, 34427.44347197,  5190.85133282,\n",
       "        6008.61553204, 31534.39251474,  5783.78768064,  2371.57209056,\n",
       "        7956.01504726,  9510.18963241,  8288.71760188,  5543.12073747,\n",
       "       12703.81187429, 38696.43124668, 13583.69719915, 29035.69338171,\n",
       "        6503.62376443, 35708.06435694,  3306.87109439, 12254.78921892,\n",
       "        9418.15402097,  6350.21140256, 11115.25959413, 14113.63187985,\n",
       "        5018.61235393,  4595.57600181,  8186.94475119,  1601.02798806,\n",
       "        7435.77861346,  4026.42245976, 13496.83910402,  3971.6703689 ,\n",
       "       10317.00297593,  6878.39719956,  9595.82257204,  1921.44581852,\n",
       "       13522.28145638, 16570.03072738, 15361.71717186, 10985.907119  ,\n",
       "        5886.96387985,  2610.10915849,  2218.16865292, 12887.21105742,\n",
       "       14454.30821656,  4526.72409806,  4255.02775396,  9748.13003046,\n",
       "        9570.97124035, 27480.62040661,  7164.7212066 , 10170.52897273,\n",
       "        6600.43781156, 29322.19492157, 11363.0724969 ,  7080.36985642,\n",
       "       10063.90231648, 12038.25449793,  2519.67404486, 10600.0213962 ,\n",
       "        1056.54169486,  6626.59294363, 28676.70760617, 38880.16022976,\n",
       "        6564.98831561,  8383.6126497 ,  1946.88336847,   -77.41065243,\n",
       "       10791.34164243,  4414.22979667,  4795.04603556,  2824.75798269,\n",
       "        7444.35234044, 33582.29418279, 37582.05292604, 14656.28499525,\n",
       "        8060.12603432, 15527.94363533, 33041.58052999,  9129.26490077,\n",
       "       33684.77088895,  3595.51623614, 30003.2718008 ,  8391.10412411,\n",
       "       13765.51526034,  3928.13272866, 32371.39286322,  7852.80550494,\n",
       "       11629.67477197,  9654.9123777 ,  3927.34152429, 13094.79974353,\n",
       "       11618.39540313,  8164.99512323, 12885.26679242,  2251.89040904,\n",
       "       10062.28809202,  5737.82911695, 11363.6676394 , 31029.61958981,\n",
       "       10012.32925092,   715.60765306,   357.03468478, 39238.61403342,\n",
       "        9299.01238875,  6896.39926911, 13827.7028316 , 12992.11324885,\n",
       "       27372.1231076 ,  7521.40827808,  7185.94280081, 12413.41396761,\n",
       "        2620.44634264,  3990.78170434, 24524.02948058, 26268.27650559,\n",
       "       13532.51320255,  2764.21797899,  5205.11822691,  9739.93164579,\n",
       "       11981.88818262, 22955.99493916, 30475.82848109, 10348.15634387,\n",
       "       23715.60191261,  2631.69389576, 11598.02689711,  7649.69375468,\n",
       "        7867.56690595,   473.26896404,  7343.62863981, 35209.94051046,\n",
       "        5655.78844985,  5773.69447495,    69.63475497, 11018.11856123,\n",
       "        6826.23791576, 10205.73121522, 39182.07583452, 27374.02685287,\n",
       "       11068.05322406, 35563.81041291, 14587.30980505,  6625.62658066,\n",
       "       11159.85530868,  7150.49330485, 36420.47868696,  6162.12440764,\n",
       "       10744.75939553,  1166.8778209 , 24357.72199802,  1782.73733627,\n",
       "       34708.26076897, 11417.29108849,  1682.89829895, 31485.73572639,\n",
       "        7006.27399073,  5635.35241078, 38102.12312547,  2559.44493452,\n",
       "        9179.38189882,  2492.08396878, 13164.70904101,  1472.14256657,\n",
       "       11131.65156106,  7179.63596216, 35932.86238083,  7637.35631154,\n",
       "       30295.45016631, 29539.14877962,  7243.38091706, 10334.95972334,\n",
       "        1735.92592498,  2640.92028663,  3601.35686796, 12518.29198076,\n",
       "       37163.53662395, 10204.76812726,   771.15094828, 11041.42951096,\n",
       "        4824.8339599 , 10170.87273992,  5149.5222127 ,  7286.04870806,\n",
       "        4432.30570869, 28082.66070566,  4035.21926193,  -741.9944892 ,\n",
       "       33229.57581358, 13038.65650341, 36129.12334154, 10334.14478067,\n",
       "        7478.4601311 ,  -160.93898251,  2401.48330135, 11917.44829648,\n",
       "        6094.33865561,  2831.40378612, 11700.19926839,  8137.60523085,\n",
       "        7365.15020647,  5009.45240869,  2900.37897632, 32128.92608535,\n",
       "        3349.55261203,  9051.92577211,  4838.02905304, 12507.77071376,\n",
       "       15051.82213579,  7500.3343892 , 26863.05580228, 14370.22220892,\n",
       "       17442.54221504, 11952.89779244])"
      ]
     },
     "execution_count": 41,
     "metadata": {},
     "output_type": "execute_result"
    }
   ],
   "source": [
    "y_pred"
   ]
  },
  {
   "cell_type": "code",
   "execution_count": 42,
   "metadata": {},
   "outputs": [],
   "source": [
    "from sklearn.metrics import r2_score\n",
    "r_score=r2_score(y_test,y_pred)"
   ]
  },
  {
   "cell_type": "code",
   "execution_count": 43,
   "metadata": {},
   "outputs": [
    {
     "data": {
      "text/plain": [
       "0.7894790349867009"
      ]
     },
     "execution_count": 43,
     "metadata": {},
     "output_type": "execute_result"
    }
   ],
   "source": [
    "r_score"
   ]
  },
  {
   "cell_type": "code",
   "execution_count": null,
   "metadata": {},
   "outputs": [],
   "source": []
  }
 ],
 "metadata": {
  "kernelspec": {
   "display_name": "Python 3",
   "language": "python",
   "name": "python3"
  },
  "language_info": {
   "codemirror_mode": {
    "name": "ipython",
    "version": 3
   },
   "file_extension": ".py",
   "mimetype": "text/x-python",
   "name": "python",
   "nbconvert_exporter": "python",
   "pygments_lexer": "ipython3",
   "version": "3.7.4"
  }
 },
 "nbformat": 4,
 "nbformat_minor": 2
}
